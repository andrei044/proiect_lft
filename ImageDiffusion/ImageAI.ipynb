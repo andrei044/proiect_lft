{
 "cells": [
  {
   "cell_type": "code",
   "execution_count": 1,
   "id": "59f59bca-75e6-4b77-8cbe-2c308d2ffe16",
   "metadata": {},
   "outputs": [],
   "source": [
    "from diffusers import AutoPipelineForText2Image\n",
    "import torch"
   ]
  },
  {
   "cell_type": "code",
   "execution_count": 17,
   "id": "73a6989d-2987-4fda-a56d-5a14abaecab8",
   "metadata": {},
   "outputs": [
    {
     "data": {
      "application/vnd.jupyter.widget-view+json": {
       "model_id": "0a6c7eea1a7048fda6d1502eb6affc5c",
       "version_major": 2,
       "version_minor": 0
      },
      "text/plain": [
       "Loading pipeline components...:   0%|          | 0/7 [00:00<?, ?it/s]"
      ]
     },
     "metadata": {},
     "output_type": "display_data"
    }
   ],
   "source": [
    "pipe = AutoPipelineForText2Image.from_pretrained(\"stabilityai/sdxl-turbo\", torch_dtype=torch.float16, variant=\"fp16\")\n",
    "if torch.cuda.is_available():\n",
    "    pipe = pipe.to(\"cuda\")\n",
    "else:\n",
    "    print(\"CUDA nu este disponibil. Modelul va rula pe CPU, ceea ce va fi mai lent.\")"
   ]
  },
  {
   "cell_type": "code",
   "execution_count": 18,
   "id": "148861ac-9613-40a3-b530-2a3e3663c65b",
   "metadata": {},
   "outputs": [
    {
     "data": {
      "application/vnd.jupyter.widget-view+json": {
       "model_id": "fd573e543e104ca18c6ef4e144e4a4a5",
       "version_major": 2,
       "version_minor": 0
      },
      "text/plain": [
       "  0%|          | 0/30 [00:00<?, ?it/s]"
      ]
     },
     "metadata": {},
     "output_type": "display_data"
    }
   ],
   "source": [
    "n_steps = 30\n",
    "prompt = \"2 cats\"\n",
    "\n",
    "image = pipe(prompt=prompt,\n",
    "             num_inference_steps=n_steps,\n",
    "             guidance_scale=0.0\n",
    "            ).images[0]\n",
    "image.save(\"generated_image.png\")"
   ]
  },
  {
   "cell_type": "code",
   "execution_count": null,
   "id": "bfe07021-a971-427f-83f2-c80368e1388d",
   "metadata": {},
   "outputs": [],
   "source": []
  }
 ],
 "metadata": {
  "kernelspec": {
   "display_name": "Python 3 (ipykernel)",
   "language": "python",
   "name": "python3"
  },
  "language_info": {
   "codemirror_mode": {
    "name": "ipython",
    "version": 3
   },
   "file_extension": ".py",
   "mimetype": "text/x-python",
   "name": "python",
   "nbconvert_exporter": "python",
   "pygments_lexer": "ipython3",
   "version": "3.12.0"
  }
 },
 "nbformat": 4,
 "nbformat_minor": 5
}
